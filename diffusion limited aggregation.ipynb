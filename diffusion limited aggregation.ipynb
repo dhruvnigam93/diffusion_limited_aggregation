{
 "cells": [
  {
   "cell_type": "markdown",
   "metadata": {},
   "source": [
    "# Diffusion Limited aggregation\n",
    "\n",
    "## Introduction\n",
    "\n",
    "This problem is based on the Diffusion Limited Aggregation (DLA) model as described on [this page](http://paulbourke.net/fractals/dla/).\n",
    "Here is an excerpt from the above page, describing the model:\n",
    "\"start with a white image except for a single black pixel in the center. New points are introduced at the borders and randomly (approximation of Brownian motion) walk until they are close enough to stick to an existing black pixel. A typical example of this is shown below in figure 1. If a point, during its random walk, approaches an edge of the image there are two strategies. The point either bounces off the edge or the image is toroidally bound (a point moving off the left edge enters on the right, a point moving off the right edge enters on the left, similarly for top and bottom). In general new points can be seeded anywhere in the image area, not just around the border without any significant visual difference.\"\n",
    "Here is a more precise statement of the above description:\n",
    "\n",
    "Start with a M x M matrix, with all entries as 0 (representing \"empty\") except for the center cell of the matrix which has a 1 (representing \"occupied with a particle\").\n",
    "Choose a cell randomly along the border of the matrix (i.e, along one of its 4 edges), and fill it with a 1. This represents introducing a new particle at the edge of the arena.\n",
    "Make this particle do a 2D random walk in the empty region of the matrix. In other words, at every iteration, randomly select an empty neighboring cell, and move the particle there, leaving the old cell empty.\n",
    "Continue the random walk until the particle encounters another particle in an adjacent cell.\n",
    "The random walk now stops, and the particle remains stuck here forever.\n",
    "Repeat the above procedure (introducing new particles, random walk, sticking to existing particles) for N particles.\n",
    "To be clear, only 1 particle does a random walk at a time, and a new one is not introduced until the previous one has found a place to stick to.\n",
    "Refer to figure 1 on the above page to see an example of what the output of such a simulation looks like.\n",
    "Next, refer to the definition of \"stickiness\" as given just above Figure 6.\n",
    "Refer to Figures 6, 7 and 8 to see the effect of varying stickiness.\n",
    "\n",
    "## The task\n",
    "\n",
    "Write code in a language of your choice to simulate DLA for a given value of stickiness. Use a matrix (or \"image\", as per the above website's language) of at least 500x500 cells (or \"pixels\"), and at least 50,000 particles to run your DLA simulations. \n",
    "Propose an algorithm to estimate the \"stickiness\" parameter with which a given DLA output was generated.\n",
    "Extra points if you can support your algorithm with data gathered from your DLA simulations.\n",
    "Note that the accuracy/robustness of your algorithm is not important. What is important is that your approach seems intuitively correct, and worth exploring.\n",
    "Further clarification\n",
    "Here is the task of stickiness estimation:\n",
    "Assume you don't have access to the program that generated the output. All you are given is the output of a given DLA run using N particles some stickiness k. You have not been given the value of N or k. Estimate k just by analyzing the output that is given to you. The output consists of a 1001x1001 matrix of 0's and 1's, that you know has been generated using DLA.\n",
    "For simplicity, assume that k can only take values between 1e-3 and 5e-2.\n",
    "It will be very interesting to see any analysis that you do on DLA outputs to show that the approaches you suggest would work, or not work. To reiterate: it is perfectly fine if the approach(es) you suggest end up being not effective, but it would be very interesting to see any analysis/evidence you can show that tells us how effective your approach is."
   ]
  },
  {
   "cell_type": "code",
   "execution_count": 12,
   "metadata": {},
   "outputs": [],
   "source": [
    "import numpy as np\n",
    "from matplotlib import pyplot as plt\n",
    "from itertools import product\n",
    "from scipy.spatial.distance import cdist\n",
    "%matplotlib inline"
   ]
  },
  {
   "cell_type": "markdown",
   "metadata": {},
   "source": [
    "## Simulating DLA\n",
    "Below is the python function that simulates the DLA process."
   ]
  },
  {
   "cell_type": "code",
   "execution_count": 3,
   "metadata": {},
   "outputs": [],
   "source": [
    "def spawnRandomParticle(M):\n",
    "    \"\"\" \n",
    "    Generated random coordinate on the edge of an MxM matrix\n",
    "\n",
    "    Parameters:\n",
    "    M (int)\n",
    "    Returns:\n",
    "    tupple\n",
    "    \"\"\"\n",
    "    n = np.random.randint(0,4*M-4)\n",
    "    if n//((M-1)*2) == 0:\n",
    "        i,j = (0,n%(M-1)) if (n%((M-1)*2))//(M-1) == 0 else (M-1,M-1-n%(M-1))\n",
    "    elif n//((M-1)*2) == 1 :\n",
    "        i,j =  (M-1-n%(M-1),0) if (n%((M-1)*2))//(M-1) == 0 else (n%(M-1), M-1)\n",
    "    return (i,j)\n",
    "\n",
    "def simulate_dla(M,N,stickiness):\n",
    "    \"\"\" \n",
    "    Siulate a DLA process with given parameters\n",
    "\n",
    "    Parameters:\n",
    "    M (int) \n",
    "    N (int)\n",
    "    stickiness (float)\n",
    "    Returns:\n",
    "    numpy 2-D array afer simulation\n",
    "    \"\"\"\n",
    "    \n",
    "    mat = np.zeros((M,M))\n",
    "    mat[ M//2 , M//2 ] = 1\n",
    "\n",
    "    nParticles = 0\n",
    "    while(nParticles < N):\n",
    "\n",
    "        i,j = spawnRandomParticle(M)\n",
    "        if (mat[i,j]==1): # if point spawned on occuped cell\n",
    "            continue\n",
    "\n",
    "        nParticles += 1\n",
    "        stick = False\n",
    "\n",
    "        while(not stick): # random walk\n",
    "            neighbours = [p for p in list(product([(i-1)%(M-1),i,(i+1)%(M-1)], [(j-1)%(M-1),j,(j+1)%(M-1)])) if p != (i,j)]\n",
    "            for point in  neighbours: # check if stick\n",
    "                if mat[point] == 1 :\n",
    "                    if np.random.uniform(0,1) < stickiness :\n",
    "                        mat[i,j] = 1\n",
    "                        stick = True\n",
    "                        break\n",
    "                    else :\n",
    "                        break\n",
    "\n",
    "            if not stick : # if not stick move to random neighbour that is not occupied\n",
    "                unoccupied = [ k for k in neighbours if mat[k]!=1]\n",
    "                i,j = unoccupied[np.random.choice(len( unoccupied  ))]\n",
    "        \n",
    "    return mat\n",
    "    "
   ]
  },
  {
   "cell_type": "markdown",
   "metadata": {},
   "source": [
    "## Visualizing the affect of stickiness\n",
    "The objective is to visulise how the distribution of particles differs for different values of stickiness,ceteris paribus. Below I simulate 100 iterations of DLA for $M = 25, N = 100$"
   ]
  },
  {
   "cell_type": "code",
   "execution_count": 8,
   "metadata": {},
   "outputs": [
    {
     "name": "stdout",
     "output_type": "stream",
     "text": [
      "0 % done for stickiness 0.05\n",
      "20 % done for stickiness 0.05\n",
      "40 % done for stickiness 0.05\n",
      "60 % done for stickiness 0.05\n",
      "80 % done for stickiness 0.05\n",
      "0 % done for stickiness 0.2\n",
      "20 % done for stickiness 0.2\n",
      "40 % done for stickiness 0.2\n",
      "60 % done for stickiness 0.2\n",
      "80 % done for stickiness 0.2\n",
      "0 % done for stickiness 0.5\n",
      "20 % done for stickiness 0.5\n",
      "40 % done for stickiness 0.5\n",
      "60 % done for stickiness 0.5\n",
      "80 % done for stickiness 0.5\n",
      "0 % done for stickiness 1\n",
      "20 % done for stickiness 1\n",
      "40 % done for stickiness 1\n",
      "60 % done for stickiness 1\n",
      "80 % done for stickiness 1\n"
     ]
    }
   ],
   "source": [
    "\n",
    "M= 25\n",
    "N = 100\n",
    "stickies = [0.05,0.2,0.5,1]\n",
    "np.random.seed(seed=1)\n",
    "mat_by_stick = {}\n",
    "for stickiness in stickies:\n",
    "    mat = np.zeros((M,M))\n",
    "    for i in range(100):\n",
    "        mat = mat + simulate_dla(M,N,stickiness)\n",
    "        if i%20 == 0: \n",
    "            print(f\"{i} % done for stickiness {stickiness}\")\n",
    "    mat = mat /1000\n",
    "    mat_by_stick[stickiness] = mat\n"
   ]
  },
  {
   "cell_type": "code",
   "execution_count": 10,
   "metadata": {},
   "outputs": [
    {
     "data": {
      "image/png": "[encoded data removed]",
      "text/plain": [
       "<Figure size 432x288 with 1 Axes>"
      ]
     },
     "metadata": {
      "needs_background": "light"
     },
     "output_type": "display_data"
    },
    {
     "data": {
      "image/png": "[encoded data removed]",
      "text/plain": [
       "<Figure size 432x288 with 1 Axes>"
      ]
     },
     "metadata": {
      "needs_background": "light"
     },
     "output_type": "display_data"
    },
    {
     "data": {
      "image/png": "[encoded data removed]",
      "text/plain": [
       "<Figure size 432x288 with 1 Axes>"
      ]
     },
     "metadata": {
      "needs_background": "light"
     },
     "output_type": "display_data"
    },
    {
     "data": {
      "image/png": "[encoded data removed]",
      "text/plain": [
       "<Figure size 432x288 with 1 Axes>"
      ]
     },
     "metadata": {
      "needs_background": "light"
     },
     "output_type": "display_data"
    }
   ],
   "source": [
    "for stickiness in mat_by_stick.keys():\n",
    "    plt.figure()\n",
    "    plt.imshow(mat_by_stick[stickiness] , cmap = \"binary\")\n",
    "    plt.title(f\"distribution for stickiness {stickiness}\")"
   ]
  },
  {
   "cell_type": "markdown",
   "metadata": {},
   "source": [
    "\n",
    "### Observations -\n",
    "For low stickiness - the distribution of particles is denser and more centred around the centre particle. This seems to be the key difference in distribution of the particles for different stickiness pria facie. This is also corroborated by paul's observation that lesser degree of stickiness causes the pattern to be more hairy i.e. points are more densely located within the image. \n",
    "\n",
    "Let us look at a few patterns and inter-particle distance distributions to confirm this hypothesis\n"
   ]
  },
  {
   "cell_type": "code",
   "execution_count": 118,
   "metadata": {},
   "outputs": [
    {
     "data": {
      "text/plain": [
       "Text(0.5, 1.0, 'Pattern for stickiness 0.5')"
      ]
     },
     "execution_count": 118,
     "metadata": {},
     "output_type": "execute_result"
    },
    {
     "data": {
      "image/png": "[encoded data removed]",
      "text/plain": [
       "<Figure size 432x288 with 1 Axes>"
      ]
     },
     "metadata": {
      "needs_background": "light"
     },
     "output_type": "display_data"
    }
   ],
   "source": [
    "\n",
    "M= 100\n",
    "N = 500\n",
    "mat = simulate_dla(M,N,0.5)\n",
    "plt.imshow(mat , cmap = \"binary\")\n",
    "plt.title(\"Pattern for stickiness 0.5\")"
   ]
  },
  {
   "cell_type": "code",
   "execution_count": 119,
   "metadata": {},
   "outputs": [
    {
     "data": {
      "text/plain": [
       "Text(0.5, 1.0, 'Distribution of inter-particle distance for stickiness = 0.5')"
      ]
     },
     "execution_count": 119,
     "metadata": {},
     "output_type": "execute_result"
    },
    {
     "data": {
      "image/png": "[encoded data removed]",
      "text/plain": [
       "<Figure size 432x288 with 1 Axes>"
      ]
     },
     "metadata": {
      "needs_background": "light"
     },
     "output_type": "display_data"
    }
   ],
   "source": [
    "part_cord = np.nonzero(mat)\n",
    "dist_mat = cdist(np.column_stack(part_cord) , np.column_stack(part_cord))\n",
    "plt.hist(dist_mat.reshape( (dist_mat.shape[0]**2,) ), bins = 20)\n",
    "plt.title(\"Distribution of inter-particle distance for stickiness = 0.5\")"
   ]
  },
  {
   "cell_type": "code",
   "execution_count": 120,
   "metadata": {},
   "outputs": [
    {
     "name": "stdout",
     "output_type": "stream",
     "text": [
      " Average inter particle distance for stickiness 0.5 is 26.023989240842706\n"
     ]
    }
   ],
   "source": [
    "print(f\" Average inter particle distance for stickiness 0.5 is {np.mean(dist_mat)}\")"
   ]
  },
  {
   "cell_type": "code",
   "execution_count": 122,
   "metadata": {},
   "outputs": [
    {
     "data": {
      "text/plain": [
       "Text(0.5, 1.0, 'Pattern for stickiness 1')"
      ]
     },
     "execution_count": 122,
     "metadata": {},
     "output_type": "execute_result"
    },
    {
     "data": {
      "image/png": "[encoded data removed]",
      "text/plain": [
       "<Figure size 432x288 with 1 Axes>"
      ]
     },
     "metadata": {
      "needs_background": "light"
     },
     "output_type": "display_data"
    }
   ],
   "source": [
    "\n",
    "M= 100\n",
    "N = 500\n",
    "\n",
    "mat = simulate_dla(M,N,1)\n",
    "plt.imshow(mat , cmap = \"binary\")\n",
    "plt.title(\"Pattern for stickiness 1\")\n"
   ]
  },
  {
   "cell_type": "code",
   "execution_count": 123,
   "metadata": {},
   "outputs": [
    {
     "data": {
      "text/plain": [
       "Text(0.5, 1.0, 'Distribution of inter-particle distance for stickiness = 1')"
      ]
     },
     "execution_count": 123,
     "metadata": {},
     "output_type": "execute_result"
    },
    {
     "data": {
      "image/png": "[encoded data removed]",
      "text/plain": [
       "<Figure size 432x288 with 1 Axes>"
      ]
     },
     "metadata": {
      "needs_background": "light"
     },
     "output_type": "display_data"
    }
   ],
   "source": [
    "part_cord = np.nonzero(mat)\n",
    "dist_mat = cdist(np.column_stack(part_cord) , np.column_stack(part_cord))\n",
    "plt.hist(dist_mat.reshape( (dist_mat.shape[0]**2,) ), bins = 20)\n",
    "plt.title(\"Distribution of inter-particle distance for stickiness = 1\")"
   ]
  },
  {
   "cell_type": "code",
   "execution_count": 124,
   "metadata": {},
   "outputs": [
    {
     "name": "stdout",
     "output_type": "stream",
     "text": [
      " Average inter particle distance for stickiness 1 is 31.00309265849222\n"
     ]
    }
   ],
   "source": [
    "print(f\" Average inter particle distance for stickiness 1 is {np.mean(dist_mat)}\")"
   ]
  },
  {
   "cell_type": "markdown",
   "metadata": {},
   "source": [
    "It follows heuristically and from the numbers above that a DLA simulation using a lower value for stickiness will have a lower Average Inter Particle Distance(AIPD), at least in an expected sense. To see how the distribution of average AIPD looks for a given value of M,N and stickiness - lets simulate enough DLAs for a few values of stickiness.\n",
    "\n",
    "Although there are many other fetures we could use to represent the distribution of particles, in the interest of time and simplicity - the AIPD is used as a representative of the particle distribution. \n",
    "\n",
    "To see how the distribution of average AIPD looks for a given value of M,N and stickiness - lets simulate enough DLAs for a few values of stickiness."
   ]
  },
  {
   "cell_type": "markdown",
   "metadata": {},
   "source": [
    "## Estimating distribution of AIPD"
   ]
  },
  {
   "cell_type": "code",
   "execution_count": 83,
   "metadata": {},
   "outputs": [
    {
     "name": "stdout",
     "output_type": "stream",
     "text": [
      "0 % done for stickiness 0.05\n",
      "20 % done for stickiness 0.05\n",
      "40 % done for stickiness 0.05\n",
      "60 % done for stickiness 0.05\n",
      "80 % done for stickiness 0.05\n",
      "0 % done for stickiness 0.1\n",
      "20 % done for stickiness 0.1\n",
      "40 % done for stickiness 0.1\n",
      "60 % done for stickiness 0.1\n",
      "80 % done for stickiness 0.1\n",
      "0 % done for stickiness 0.2\n",
      "20 % done for stickiness 0.2\n",
      "40 % done for stickiness 0.2\n",
      "60 % done for stickiness 0.2\n",
      "80 % done for stickiness 0.2\n",
      "0 % done for stickiness 0.5\n",
      "20 % done for stickiness 0.5\n",
      "40 % done for stickiness 0.5\n",
      "60 % done for stickiness 0.5\n",
      "80 % done for stickiness 0.5\n"
     ]
    }
   ],
   "source": [
    "M= 100\n",
    "N = 500\n",
    "iterations = 100\n",
    "stickiness = [0.05,0.1, 0.2,0.5]\n",
    "\n",
    "metric_dict = { s:[] for s in stickiness }\n",
    "metrics = [\"average\", \"25th\", \"Median\", \"75th\"]\n",
    "for stick in stickiness:\n",
    "    for i in range(iterations):\n",
    "        mat = simulate_dla(M,N,stick)\n",
    "        part_cord = np.nonzero(mat)\n",
    "        dist_mat = cdist(np.column_stack(part_cord) , np.column_stack(part_cord))\n",
    "        metric_dict[stick].append(np.append(np.mean(dist_mat) , np.percentile(dist_mat , [25,50,75])))\n",
    "        if i%20 == 0: \n",
    "            print(f\"{i} % done for stickiness {stick}\")\n",
    "    "
   ]
  },
  {
   "cell_type": "code",
   "execution_count": 110,
   "metadata": {},
   "outputs": [],
   "source": [
    "results = np.column_stack([np.row_stack([ np.row_stack(x) for x in metric_dict.values() ]), np.repeat(stickiness,iterations)])"
   ]
  },
  {
   "cell_type": "code",
   "execution_count": 131,
   "metadata": {},
   "outputs": [
    {
     "data": {
      "image/png": "[encoded data removed]",
      "text/plain": [
       "<Figure size 432x288 with 1 Axes>"
      ]
     },
     "metadata": {
      "needs_background": "light"
     },
     "output_type": "display_data"
    }
   ],
   "source": [
    "kwargs = dict(alpha=0.5, bins=20, density=True, stacked=True)\n",
    "\n",
    "x1 = results[:100,0]\n",
    "x2 = results[100:200,0]\n",
    "x3 = results[200:300,0]\n",
    "x4 = results[300:400,0]\n",
    "# Plot\n",
    "plt.hist(x1, **kwargs, color='g', label='0.05')\n",
    "plt.hist(x2, **kwargs, color='b', label='0.1')\n",
    "plt.hist(x3, **kwargs, color='r', label='0.2')\n",
    "plt.hist(x4, **kwargs, color='y', label='0.5')\n",
    "plt.gca().set(title='Probability Histogram of AIPD', ylabel='Probability')\n",
    "plt.legend();"
   ]
  },
  {
   "cell_type": "markdown",
   "metadata": {},
   "source": [
    "Clearly the AIPD distribution is very diffrent for different values of stickiness. Consequently, given the result of a DLA simulation, there is information about the stickiness parameter that can be extracted from the AIPD. This forms they key underpinning of the algorithm proposed below."
   ]
  },
  {
   "cell_type": "markdown",
   "metadata": {},
   "source": [
    "### Proposed algorithm\n",
    "1. Calculate $M$ and $N$ from the matrix. $M$ is the dimension of the matrix and $N$ is the number of non zero entries minus one.\n",
    "2. Caculate the average eucledian distance between particles(non zero points in matrix). Lets call this $y$. This is the AIPD for the observed matrix.\n",
    "3. Let the stickiness parameter used to generate the given matrix be $\\theta$\n",
    "4. For the given $M$ and $N$, simulate a large number of DLA processes using a set of candidate values of $\\theta$. Let's call this set $S$. In the above demostration , $S = \\{0.05,0.1,0.2,0.5\\}$ \n",
    "5. From these estiamte the distribution of AIPD given each candidate value of $\\theta$ using repeated DLA simulations\n",
    "5. Choose $\\hat\\theta$ among the candidate values of $\\theta$ such that $p(y|\\theta)$ is maximised, which is both the MLE and the MAP estimate in case uniform prior is assumed for $\\theta$"
   ]
  }
 ],
 "metadata": {
  "kernelspec": {
   "display_name": "Python 3",
   "language": "python",
   "name": "python3"
  },
  "language_info": {
   "codemirror_mode": {
    "name": "ipython",
    "version": 3
   },
   "file_extension": ".py",
   "mimetype": "text/x-python",
   "name": "python",
   "nbconvert_exporter": "python",
   "pygments_lexer": "ipython3",
   "version": "3.7.4"
  }
 },
 "nbformat": 4,
 "nbformat_minor": 4
}
